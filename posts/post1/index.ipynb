{
  "cells": [
    {
      "cell_type": "raw",
      "id": "be0540fd",
      "metadata": {},
      "source": [
        "---\n",
        "title: \"Title\"\n",
        "description: \"Description\"\n",
        "author: \"Jim\"\n",
        "date: \"1/20/2023\"\n",
        "format:\n",
        "    html:\n",
        "        include-before-body: dogcat.html\n",
        "---"
      ]
    }
  ],
  "metadata": {
    "kernelspec": {
      "display_name": "Python 3",
      "language": "python",
      "name": "python3"
    }
  },
  "nbformat": 4,
  "nbformat_minor": 5
}
