{
 "cells": [
  {
   "cell_type": "raw",
   "metadata": {},
   "source": [
    "---\n",
    "title: \"Title\"\n",
    "description: \"Description\"\n",
    "author: \"Jim\"\n",
    "date: \"1/20/2023\"\n",
    "\n",
    "---"
   ]
  },
  {
   "cell_type": "code",
   "execution_count": null,
   "metadata": {
    "vscode": {
     "languageId": "html"
    }
   },
   "outputs": [],
   "source": [
    "<input id=\"photo\" type=\"file\">\n",
    "<div id=\"results\"></div>\n",
    "<script>\n",
    "  async function loaded(reader) {\n",
    "    const response = await fetch('https://jwvandyke-catdogclassifier.hf.space/run/predict', {\n",
    "      method: \"POST\", body: JSON.stringify({ \"data\": [reader.result] }),\n",
    "      headers: { \"Content-Type\": \"application/json\" }\n",
    "    });\n",
    "    const json = await response.json();\n",
    "    const label = json['data'][0]['confidences'][0]['label'];\n",
    "    results.innerHTML = `<br/><img src=\"${reader.result}\" width=\"300\"> <p>${label}</p>`\n",
    "  }\n",
    "  function read() {\n",
    "    const reader = new FileReader();\n",
    "    reader.addEventListener('load', () => loaded(reader))\n",
    "    reader.readAsDataURL(photo.files[0]);\n",
    "  }\n",
    "  photo.addEventListener('input', read);\n",
    "</script>"
   ]
  }
 ],
 "metadata": {
  "kernelspec": {
   "display_name": "Python 3",
   "language": "python",
   "name": "python3"
  },
  "language_info": {
   "name": "python",
   "version": "3.10.6 (main, Nov 14 2022, 16:10:14) [GCC 11.3.0]"
  },
  "orig_nbformat": 4,
  "vscode": {
   "interpreter": {
    "hash": "916dbcbb3f70747c44a77c7bcd40155683ae19c65e1c03b4aa3499c5328201f1"
   }
  }
 },
 "nbformat": 4,
 "nbformat_minor": 2
}
